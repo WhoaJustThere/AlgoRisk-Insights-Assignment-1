{
 "cells": [
  {
   "cell_type": "code",
   "execution_count": 45,
   "metadata": {},
   "outputs": [
    {
     "name": "stdout",
     "output_type": "stream",
     "text": [
      "[*********************100%%**********************]  1 of 1 completed\n",
      "[*********************100%%**********************]  1 of 1 completed\n",
      "[*********************100%%**********************]  1 of 1 completed"
     ]
    },
    {
     "name": "stdout",
     "output_type": "stream",
     "text": [
      "\n",
      "[*********************100%%**********************]  1 of 1 completed\n"
     ]
    },
    {
     "name": "stderr",
     "output_type": "stream",
     "text": [
      "C:\\Users\\nonit\\AppData\\Local\\Packages\\PythonSoftwareFoundation.Python.3.11_qbz5n2kfra8p0\\LocalCache\\local-packages\\Python311\\site-packages\\yfinance\\utils.py:782: FutureWarning: The 'unit' keyword in TimedeltaIndex construction is deprecated and will be removed in a future version. Use pd.to_timedelta instead.\n",
      "  df.index += _pd.TimedeltaIndex(dst_error_hours, 'h')\n",
      "C:\\Users\\nonit\\AppData\\Local\\Packages\\PythonSoftwareFoundation.Python.3.11_qbz5n2kfra8p0\\LocalCache\\local-packages\\Python311\\site-packages\\yfinance\\utils.py:782: FutureWarning: The 'unit' keyword in TimedeltaIndex construction is deprecated and will be removed in a future version. Use pd.to_timedelta instead.\n",
      "  df.index += _pd.TimedeltaIndex(dst_error_hours, 'h')\n",
      "C:\\Users\\nonit\\AppData\\Local\\Packages\\PythonSoftwareFoundation.Python.3.11_qbz5n2kfra8p0\\LocalCache\\local-packages\\Python311\\site-packages\\yfinance\\utils.py:782: FutureWarning: The 'unit' keyword in TimedeltaIndex construction is deprecated and will be removed in a future version. Use pd.to_timedelta instead.\n",
      "  df.index += _pd.TimedeltaIndex(dst_error_hours, 'h')\n",
      "C:\\Users\\nonit\\AppData\\Local\\Packages\\PythonSoftwareFoundation.Python.3.11_qbz5n2kfra8p0\\LocalCache\\local-packages\\Python311\\site-packages\\yfinance\\utils.py:782: FutureWarning: The 'unit' keyword in TimedeltaIndex construction is deprecated and will be removed in a future version. Use pd.to_timedelta instead.\n",
      "  df.index += _pd.TimedeltaIndex(dst_error_hours, 'h')\n"
     ]
    }
   ],
   "source": [
    "import yfinance as yf\n",
    "import datetime\n",
    "\n",
    "start_date = '2023-04-01'\n",
    "end_date = '2024-03-31'\n",
    "\n",
    "nifty = yf.download('^NSEI' , start = start_date , end = end_date)\n",
    "dow = yf.download('^DJI' , start = start_date , end = end_date)\n",
    "dax = yf.download('^GDAXI' , start = start_date , end = end_date)\n",
    "ftse = yf.download('^FTSE' , start = start_date , end = end_date)"
   ]
  },
  {
   "cell_type": "markdown",
   "metadata": {},
   "source": [
    "Testing a basic strategy where I buy the stock at the close of Monday and sell it at the close of Friday to maximise my returns based on the Weekend effect's hypothesis."
   ]
  },
  {
   "cell_type": "code",
   "execution_count": 46,
   "metadata": {},
   "outputs": [],
   "source": [
    "def returns(data):\n",
    "    initial_capital = 100000\n",
    "    capital = initial_capital\n",
    "    nos = 0\n",
    "    trade = 0\n",
    "    for index, _ in data.iterrows():\n",
    "        day_of_week = index.strftime(\"%A\")\n",
    "        if day_of_week == 'Monday' and trade == 0:\n",
    "            nos = capital / data.loc[index, 'Close']\n",
    "            purchase = data.loc[index, 'Close']\n",
    "            trade = 1 \n",
    "        elif day_of_week == 'Friday' and trade == 1:\n",
    "            capital = capital + nos*(data.loc[index, 'Close']-purchase)\n",
    "            trade = 0\n",
    "    return (capital-initial_capital)/initial_capital*100"
   ]
  },
  {
   "cell_type": "code",
   "execution_count": 47,
   "metadata": {},
   "outputs": [
    {
     "name": "stdout",
     "output_type": "stream",
     "text": [
      "Returns in NIFTY50: 11.75 %\n",
      "Returns in DOW JONES: 6.54 %\n",
      "Returns in DAX: 20.30 %\n",
      "Returns in FTSE 100: 6.55 %\n"
     ]
    }
   ],
   "source": [
    "print(f\"Returns in NIFTY50: {returns(nifty):.2f} %\")\n",
    "print(f\"Returns in DOW JONES: {returns(dow):.2f} %\")\n",
    "print(f\"Returns in DAX: {returns(dax):.2f} %\")\n",
    "print(f\"Returns in FTSE 100: {returns(ftse):.2f} %\")"
   ]
  },
  {
   "cell_type": "markdown",
   "metadata": {},
   "source": [
    "Now the following is the data for a buy and hold strategy for the same time period and we see that these results outperform the Weekend effect strategy"
   ]
  },
  {
   "cell_type": "code",
   "execution_count": 48,
   "metadata": {},
   "outputs": [
    {
     "name": "stdout",
     "output_type": "stream",
     "text": [
      "Returns in NIFTY50: 28.11 %\n",
      "Returns in DOW JONES: 19.73 %\n",
      "Returns in DAX: 18.36 %\n",
      "Returns in FTSE 100: 3.66 %\n",
      "Returns in S&P 500: 28.08 %\n"
     ]
    }
   ],
   "source": [
    "print(\"Returns in NIFTY50: 28.11 %\")\n",
    "print(\"Returns in DOW JONES: 19.73 %\")\n",
    "print(\"Returns in DAX: 18.36 %\")\n",
    "print(\"Returns in FTSE 100: 3.66 %\")\n",
    "print(\"Returns in S&P 500: 28.08 %\")"
   ]
  }
 ],
 "metadata": {
  "kernelspec": {
   "display_name": "Python 3",
   "language": "python",
   "name": "python3"
  },
  "language_info": {
   "codemirror_mode": {
    "name": "ipython",
    "version": 3
   },
   "file_extension": ".py",
   "mimetype": "text/x-python",
   "name": "python",
   "nbconvert_exporter": "python",
   "pygments_lexer": "ipython3",
   "version": "3.11.9"
  }
 },
 "nbformat": 4,
 "nbformat_minor": 2
}
